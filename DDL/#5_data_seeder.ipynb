#%%
!pip3 install psycopg2

#%%

import psycopg2
from random import seed
from random import randint
seed(1)

connection_psql = psycopg2.connect( user="u161048"
                                  , password="p161048"
                                  , port="5433"
                                  , database="nbp_2020_p13"
                                  , host="localhost")
cursor_psql = connection_psql.cursor()

# person starts from 32
# Generating persons
vals = ""
for i in range(32,20032):
    vals += "(nextval('main_sequence'), now(), now(), 'person_" + str(i) + "@adb.fcse', 'passwd_emp" + str(i) + "')"
    if i != 20031:
        vals += ","
qry = "insert into person(id, date_created, date_updated, email, password) values " + vals
cursor_psql.execute(qry)
print("Inserted persons")


# Generating employees
vals = ""
for i in range(32, 10015):
    vals += "(" + str(i) + ", 20000" + ")"
    if i != 10014:
        vals += ","

qry = "insert into employee(employee_id, pay) values " + vals
cursor_psql.execute(qry)
print("Inserted employees")

# Generating chefs
vals = ""
vals2 = ""
for i in range(32, 5000):
    vals += "(" + str(i) + ")"
    randPizza = randint(1, 10)
    vals2 += "(" + str(randPizza) + ", " + str(i) + ")"
    if i != 4999:
        vals += ","
        vals2 += ","

qry = "insert into chef(chef_id) values " + vals
cursor_psql.execute(qry)
print("Inserted chefs")

qry = "insert into pizza_chef(pizza_id, chef_id) values " + vals2
cursor_psql.execute(qry)
print("Inserted pizza_chefs")

# Generating deliverers
vals = ""
for i in range(5000, 10015):
    vals += "(" + str(i) + ")"
    if i != 10014:
        vals += ","

qry = "insert into deliverer(deliverer_id) values " + vals
cursor_psql.execute(qry)
print("Inserted deliverers")

# Generating customers
vals = ""
for i in range(10016, 20031):
    vals += "(" + str(i) + ", 'customer_" + str(i) + "-address')"
    if i != 20030:
        vals += ","
qry = "insert into customer(customer_id, address) values " + vals
cursor_psql.execute(qry)
print("Inserted customers")

# Generating orders
vals = ""
for i in range(0, 300000):
    randPizza = randint(1, 10)
    randUser = randint(10016, 20030)
    randDeliverer = randint(5000, 10014)
    vals += "(nextval('main_sequence'), now(), now(), " + str(randPizza) + ", " + str(randDeliverer) + ", " + str(randUser) + ")"
    if i != 299999:
        vals += ","

qry = "insert into pizza_order(id, date_created, date_updated, pizza_id, deliverer_id, customer_id) values " + vals
cursor_psql.execute(qry)
print("Inserted orders 1")


vals = ""
for i in range(300000, 600000):
    randPizza = randint(1, 10)
    randUser = randint(10016, 20030)
    randDeliverer = randint(5000, 10014)
    vals += "(nextval('main_sequence'), now(), now(), " + str(randPizza) + ", " + str(randDeliverer) + ", " + str(randUser) + ")"
    if i != 599999:
        vals += ","

qry = "insert into pizza_order(id, date_created, date_updated, pizza_id, deliverer_id, customer_id) values " + vals
cursor_psql.execute(qry)
print("Inserted orders 2")


vals = ""
for i in range(600000, 1000000):
    randPizza = randint(1, 10)
    randUser = randint(10016, 20030)
    randDeliverer = randint(5000, 10014)
    vals += "(nextval('main_sequence'), now(), now(), " + str(randPizza) + ", " + str(randDeliverer) + ", " + str(randUser) + ")"
    if i != 999999:
        vals += ","

qry = "insert into pizza_order(id, date_created, date_updated, pizza_id, deliverer_id, customer_id) values " + vals
cursor_psql.execute(qry)

print("Inserted orders 3")

connection_psql.commit()
cursor_psql.close()
