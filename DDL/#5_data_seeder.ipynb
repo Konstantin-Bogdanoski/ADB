#%%
!pip3 install psycopg2

#%%

import psycopg2
from random import seed
from random import randint

connection_psql = psycopg2.connect( user="postgres"
                                  , password="postgres"
                                  , port="5432"
                                  , database="adb"
                                  , host="localhost")
cursor_psql = connection_psql.cursor()

# person starts from 32
# Generating persons
for i in range(32,20032):
    vals = "nextval('main_sequence'), now(), now(), 'person_" + str(i) + "@adb.fcse', 'passwd_emp" + str(i) + "'"
    qry = "insert into person(id, date_created, date_updated, email, password) values (" + vals + ")"
    cursor_psql.execute(qry)

# Generating employees
for i in range(32, 10015):
    vals = str(i) + ", 20000"
    qry = "insert into employee(employee_id, pay) values (" + vals + ")"
    cursor_psql.execute(qry)
    if i < 5000:
        vals = str(i)
        qry = "insert into chef(chef_id) values (" + vals + ")"
        cursor_psql.execute(qry)
    else:
        vals = str(i)
        qry = "insert into deliverer(deliverer_id) values (" + vals + ")"
        cursor_psql.execute(qry)

# Generating customers
for i in range(10016, 20031):
    vals = str(i) + ", 'customer_" + str(i) + "-address'"
    qry = "insert into customer(customer_id, address) values (" + vals + ")"
    cursor_psql.execute(qry)

seed(1)

# Generating orders
for i in range(0, 1000000):
    randPizza = randint(1, 10)
    randUser = randint(10016, 20030)
    randDeliverer = randint(5000, 10014)
    vals = "nextval('main_sequence'), now(), now(), " + str(randPizza) + ", " + str(randDeliverer) + ", " + str(randUser)
    qry = "insert into pizza_order(id, date_created, date_updated, pizza_id, deliverer_id, customer_id) values (" + vals + ")"
    cursor_psql.execute(qry)

connection_psql.commit()
cursor_psql.close()
